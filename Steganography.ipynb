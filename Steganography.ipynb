{
  "nbformat": 4,
  "nbformat_minor": 0,
  "metadata": {
    "colab": {
      "name": "Steganography.ipynb",
      "provenance": [],
      "authorship_tag": "ABX9TyO/M7LAJlWFx2l5IOAC74FK",
      "include_colab_link": true
    },
    "kernelspec": {
      "name": "python3",
      "display_name": "Python 3"
    },
    "language_info": {
      "name": "python"
    }
  },
  "cells": [
    {
      "cell_type": "markdown",
      "metadata": {
        "id": "view-in-github",
        "colab_type": "text"
      },
      "source": [
        "<a href=\"https://colab.research.google.com/github/jakzy/Different-projects/blob/master/Steganography.ipynb\" target=\"_parent\"><img src=\"https://colab.research.google.com/assets/colab-badge.svg\" alt=\"Open In Colab\"/></a>"
      ]
    },
    {
      "cell_type": "code",
      "metadata": {
        "colab": {
          "base_uri": "https://localhost:8080/"
        },
        "id": "TUhpLn-mYQJY",
        "outputId": "980f0448-0e39-452e-a113-6ea43927479f"
      },
      "source": [
        "bc_en = {\n",
        "    'A': 'AAAAA', \n",
        "    'B': 'AAAAB',  \n",
        "    'C': 'AAABA', \n",
        "    'D': 'AAABB',  \n",
        "    'E': 'AABAA',  \n",
        "    'F': 'AABAB',  \n",
        "    'G': 'AABBA',  \n",
        "    'H': 'AABBB',  \n",
        "    'I': 'ABAAA',  \n",
        "    'J': 'ABAAB',  \n",
        "    'K': 'ABABA',  \n",
        "    'L': 'ABABB',  \n",
        "    'M': 'ABBAA',  \n",
        "    'N': 'ABBAB',  \n",
        "    'O': 'ABBBA',  \n",
        "    'P': 'ABBBB',  \n",
        "    'Q': 'BAAAA',  \n",
        "    'R': 'BAAAB',  \n",
        "    'S': 'BAABA',  \n",
        "    'T': 'BAABB',  \n",
        "    'U': 'BABAA',  \n",
        "    'V': 'BABAB',  \n",
        "    'W': 'BABBA',  \n",
        "    'X': 'BABBB',  \n",
        "    'Y': 'BBAAA', \n",
        "    'Z': 'BBAAB'\n",
        "}\n",
        "\n",
        "bc_ru = {\n",
        "    'А': 'AAAAA', \n",
        "    'Б': 'AAAAB', \n",
        "    'В': 'AAABA', \n",
        "    'Г': 'AAABB', \n",
        "    'Д': 'AABAA', \n",
        "    'Е': 'AABAB', \n",
        "    'Ж': 'AABBA', \n",
        "    'З': 'AABBB', \n",
        "    'И': 'ABAAA', \n",
        "    'Й': 'ABAAB', \n",
        "    'К': 'ABABA', \n",
        "    'Л': 'ABABB', \n",
        "    'М': 'ABBAA', \n",
        "    'Н': 'ABBAB', \n",
        "    'О': 'ABBBA', \n",
        "    'П': 'ABBBB', \n",
        "    'Р': 'BAAAA', \n",
        "    'С': 'BAAAB', \n",
        "    'Т': 'BAABA', \n",
        "    'У': 'BAABB', \n",
        "    'Ф': 'BABAA', \n",
        "    'Х': 'BABAB', \n",
        "    'Ц': 'BABBA', \n",
        "    'Ч': 'BABBB', \n",
        "    'Ш': 'BBAAA', \n",
        "    'Щ': 'BBAAB', \n",
        "    'Ъ': 'BBABA', \n",
        "    'Ы': 'BBABB', \n",
        "    'Ь': 'BBBAA', \n",
        "    'Э': 'BBBAB', \n",
        "    'Ю': 'BBBBA', \n",
        "    'Я': 'BBBBB'\n",
        "}\n",
        "\n",
        "def hide_bacon(msg, container):\n",
        "  res=''\n",
        "  if msg[0].upper() in bc_en:\n",
        "    bc_dict = bc_en\n",
        "  elif msg[0].upper() in bc_ru:\n",
        "    bc_dict = bc_ru\n",
        "  else:\n",
        "    print(\"Язык не поддерживается\")\n",
        "    return\n",
        "  if len(container) < len(msg)*5:\n",
        "    print(f\"Размер контейнера недостаточен, дополните его {len(msg)*5 - len(container)} символами\")\n",
        "    return\n",
        "  pt = 0\n",
        "  for s in msg:\n",
        "    j = 0\n",
        "    while j < 5:\n",
        "      if container[pt].upper() in list(bc_dict.keys()):\n",
        "        if  bc_dict[s.upper()][j] == 'A':\n",
        "          res = res + container[pt].upper()\n",
        "        else:\n",
        "          res = res + container[pt].lower()\n",
        "        j+=1\n",
        "      else:\n",
        "        res = res + container[pt]\n",
        "      pt+=1\n",
        "  res = res + container[len(res):]\n",
        "  return(res)\n",
        "\n",
        "print(hide_bacon('hi', \"Hello, test program\"))\n",
        "print(hide_bacon('привет', \"Этот текст сгенерирован автоматически, не отвечайте на данное письмо.\"))"
      ],
      "execution_count": 70,
      "outputs": [
        {
          "output_type": "stream",
          "text": [
            "HEllo, TeST Program\n",
            "Этот теКСТ СГеНЕРИРОвАН АвТомАТиЧески, не отвечайте на данное письмо.\n"
          ],
          "name": "stdout"
        }
      ]
    },
    {
      "cell_type": "code",
      "metadata": {
        "colab": {
          "base_uri": "https://localhost:8080/"
        },
        "id": "KSU5psDJgKWF",
        "outputId": "224dee95-f0f3-40d5-c41e-0fd922fafee2"
      },
      "source": [
        "def get_bacon(text):\n",
        "  if text[0].upper() in bc_en:\n",
        "    bc_dict = {y:x for x,y in bc_en.items()}\n",
        "  elif text[0].upper() in bc_ru:\n",
        "    bc_dict = {y:x for x,y in bc_ru.items()}\n",
        "  else:\n",
        "    print(\"Язык не поддерживается\")\n",
        "    return\n",
        "  pr_text = ''\n",
        "  for s in text:\n",
        "    if s.upper() in bc_dict.values():\n",
        "      if s == s.upper():\n",
        "        pr_text = pr_text + 'A'\n",
        "      else:\n",
        "        pr_text = pr_text + 'B'\n",
        "  res = ''\n",
        "  for i in range(len(pr_text)//5 - 1):\n",
        "    res = res + bc_dict[pr_text[i*5: i*5 + 5]]\n",
        "  return(res)\n",
        "print(get_bacon(\"HEllo, TeST Program\"))\n",
        "print(get_bacon(\"Этот теКСТ СГеНЕРИРОвАН АвТомАТиЧески, не отвечайте на данное письмо.\"))"
      ],
      "execution_count": 75,
      "outputs": [
        {
          "output_type": "stream",
          "text": [
            "HI\n",
            "ПРИВЕТЯЯЯЯ\n"
          ],
          "name": "stdout"
        }
      ]
    }
  ]
}